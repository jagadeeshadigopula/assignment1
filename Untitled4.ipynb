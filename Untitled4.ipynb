{
  "nbformat": 4,
  "nbformat_minor": 0,
  "metadata": {
    "colab": {
      "name": "Untitled4.ipynb",
      "provenance": [],
      "authorship_tag": "ABX9TyO3SdAI+tffP8477e99dHlE",
      "include_colab_link": true
    },
    "kernelspec": {
      "name": "python3",
      "display_name": "Python 3"
    }
  },
  "cells": [
    {
      "cell_type": "markdown",
      "metadata": {
        "id": "view-in-github",
        "colab_type": "text"
      },
      "source": [
        "<a href=\"https://colab.research.google.com/github/jagadeeshadigopula/assignment1/blob/main/Untitled4.ipynb\" target=\"_parent\"><img src=\"https://colab.research.google.com/assets/colab-badge.svg\" alt=\"Open In Colab\"/></a>"
      ]
    },
    {
      "cell_type": "code",
      "metadata": {
        "id": "S4W1_Tch3AHJ"
      },
      "source": [
        "#Accessing string characters in Python\r\n",
        "str = 'programiz'\r\n",
        "print('str = ', str)\r\n",
        "\r\n",
        "#first character\r\n",
        "print('str[0] = ', str[0])\r\n",
        "\r\n",
        "#last character\r\n",
        "print('str[-1] = ', str[-1])\r\n",
        "\r\n",
        "#slicing 2nd to 5th character\r\n",
        "print('str[1:5] = ', str[1:5])\r\n",
        "\r\n",
        "#slicing 6th to 2nd last character\r\n",
        "print('str[5:-2] = ', str[5:-2])\r\n"
      ],
      "execution_count": null,
      "outputs": []
    },
    {
      "cell_type": "code",
      "metadata": {
        "id": "4OdfYGc_3RVa"
      },
      "source": [
        "#Concatenation of Two or More Strings\r\n",
        "# Python String Operations\r\n",
        "str1 = 'Hello'\r\n",
        "str2 ='World!'\r\n",
        "\r\n",
        "# using +\r\n",
        "print('str1 + str2 = ', str1 + str2)\r\n",
        "\r\n",
        "# using *\r\n",
        "print('str1 * 3 =', str1 * 3)"
      ],
      "execution_count": null,
      "outputs": []
    },
    {
      "cell_type": "code",
      "metadata": {
        "id": "EiGfNJG93kSN"
      },
      "source": [
        "# Python string format() method\r\n",
        "\r\n",
        "# default(implicit) order\r\n",
        "default_order = \"{}, {} and {}\".format('John','Bill','Sean')\r\n",
        "print('\\n--- Default Order ---')\r\n",
        "print(default_order)\r\n",
        "\r\n",
        "# order using positional argument\r\n",
        "positional_order = \"{1}, {0} and {2}\".format('John','Bill','Sean')\r\n",
        "print('\\n--- Positional Order ---')\r\n",
        "print(positional_order)\r\n",
        "\r\n",
        "# order using keyword argument\r\n",
        "keyword_order = \"{s}, {b} and {j}\".format(j='John',b='Bill',s='Sean')\r\n",
        "print('\\n--- Keyword Order ---')\r\n",
        "print(keyword_order)"
      ],
      "execution_count": null,
      "outputs": []
    },
    {
      "cell_type": "code",
      "metadata": {
        "colab": {
          "base_uri": "https://localhost:8080/",
          "height": 35
        },
        "id": "RcPWwGUW386q",
        "outputId": "35f5096f-6eff-472c-cbe6-de989a746105"
      },
      "source": [
        ">>> \"PrOgRaMiZ\".lower()\r\n",
        "'programiz'\r\n",
        ">>> \"PrOgRaMiZ\".upper()\r\n",
        "'PROGRAMIZ'\r\n",
        ">>> \"This will split all words into a list\".split()\r\n",
        "['This', 'will', 'split', 'all', 'words', 'into', 'a', 'list']\r\n",
        ">>> ' '.join(['This', 'will', 'join', 'all', 'words', 'into', 'a', 'string'])\r\n",
        "'This will join all words into a string'\r\n",
        ">>> 'Happy New Year'.find('ew')\r\n",
        "7\r\n",
        ">>> 'Happy New Year'.replace('Happy','Brilliant')\r\n",
        "'Brilliant New Year'"
      ],
      "execution_count": 4,
      "outputs": [
        {
          "output_type": "execute_result",
          "data": {
            "application/vnd.google.colaboratory.intrinsic+json": {
              "type": "string"
            },
            "text/plain": [
              "'Brilliant New Year'"
            ]
          },
          "metadata": {
            "tags": []
          },
          "execution_count": 4
        }
      ]
    },
    {
      "cell_type": "code",
      "metadata": {
        "id": "TIsLfDRH4AuB"
      },
      "source": [
        "# using triple quotes\r\n",
        "print('''He said, \"What's there?\"''')\r\n",
        "\r\n",
        "# escaping single quotes\r\n",
        "print('He said, \"What\\'s there?\"')\r\n",
        "\r\n",
        "# escaping double quotes\r\n",
        "print(\"He said, \\\"What's there?\\\"\")\r\n"
      ],
      "execution_count": null,
      "outputs": []
    },
    {
      "cell_type": "code",
      "metadata": {
        "id": "e4shFLnL4Uan"
      },
      "source": [
        "#Question 2\r\n",
        "#Try 5 Different functions of the List object in Python\r\n",
        "# Negative indexing in lists\r\n",
        "my_list = ['p','r','o','b','e']\r\n",
        "\r\n",
        "print(my_list[-1])\r\n",
        "\r\n",
        "print(my_list[-5])\r\n"
      ],
      "execution_count": null,
      "outputs": []
    },
    {
      "cell_type": "code",
      "metadata": {
        "id": "1Oh8_a2H4uF8"
      },
      "source": [
        "# List slicing in Python\r\n",
        "\r\n",
        "my_list = ['p','r','o','g','r','a','m','i','z']\r\n",
        "\r\n",
        "# elements 3rd to 5th\r\n",
        "print(my_list[2:5])\r\n",
        "\r\n",
        "# elements beginning to 4th\r\n",
        "print(my_list[:-5])\r\n",
        "\r\n",
        "# elements 6th to end\r\n",
        "print(my_list[5:])\r\n",
        "\r\n",
        "# elements beginning to end\r\n",
        "print(my_list[:])\r\n"
      ],
      "execution_count": null,
      "outputs": []
    },
    {
      "cell_type": "code",
      "metadata": {
        "id": "E454Lsma4y8y"
      },
      "source": [
        "# Correcting mistake values in a list\r\n",
        "odd = [2, 4, 6, 8]\r\n",
        "\r\n",
        "# change the 1st item    \r\n",
        "odd[0] = 1            \r\n",
        "\r\n",
        "print(odd)\r\n",
        "\r\n",
        "# change 2nd to 4th items\r\n",
        "odd[1:4] = [3, 5, 7]  \r\n",
        "\r\n",
        "print(odd)              "
      ],
      "execution_count": null,
      "outputs": []
    },
    {
      "cell_type": "code",
      "metadata": {
        "id": "r40BqSZM45Hi"
      },
      "source": [
        "#Appending and Extending lists in Python\r\n",
        "odd = [1, 3, 5]\r\n",
        "\r\n",
        "odd.append(7)\r\n",
        "\r\n",
        "print(odd)\r\n",
        "\r\n",
        "odd.extend([9, 11, 13])\r\n",
        "\r\n",
        "print(odd)"
      ],
      "execution_count": null,
      "outputs": []
    },
    {
      "cell_type": "code",
      "metadata": {
        "id": "CkiBNH0-4-a5"
      },
      "source": [
        "# Concatenating and repeating lists\r\n",
        "odd = [1, 3, 5]\r\n",
        "\r\n",
        "print(odd + [9, 7, 5])\r\n",
        "\r\n",
        "print([\"re\"] * 3)"
      ],
      "execution_count": null,
      "outputs": []
    },
    {
      "cell_type": "code",
      "metadata": {
        "id": "iw0C-Bv05C-9"
      },
      "source": [
        "#Question 3\r\n",
        "#Experiment with at least 5 default functions of Dictionary\r\n",
        "# empty dictionary\r\n",
        "my_dict = {}\r\n",
        "\r\n",
        "# dictionary with integer keys\r\n",
        "my_dict = {1: 'apple', 2: 'ball'}\r\n",
        "\r\n",
        "# dictionary with mixed keys\r\n",
        "my_dict = {'name': 'John', 1: [2, 4, 3]}\r\n",
        "\r\n",
        "# using dict()\r\n",
        "my_dict = dict({1:'apple', 2:'ball'})\r\n",
        "\r\n",
        "# from sequence having each item as a pair\r\n",
        "my_dict = dict([(1,'apple'), (2,'ball')])"
      ],
      "execution_count": null,
      "outputs": []
    },
    {
      "cell_type": "code",
      "metadata": {
        "id": "j7D1oZyu5mnf"
      },
      "source": [
        "# get vs [] for retrieving elements\r\n",
        "my_dict = {'name': 'Jack', 'age': 26}\r\n",
        "\r\n",
        "# Output: Jack\r\n",
        "print(my_dict['name'])\r\n",
        "\r\n",
        "# Output: 26\r\n",
        "print(my_dict.get('age'))\r\n",
        "\r\n",
        "# Trying to access keys which doesn't exist throws error\r\n",
        "# Output None\r\n",
        "print(my_dict.get('address'))\r\n",
        "\r\n",
        "# KeyError\r\n",
        "print(my_dict['address'])\r\n"
      ],
      "execution_count": null,
      "outputs": []
    },
    {
      "cell_type": "code",
      "metadata": {
        "id": "B9YgA98I5s3R"
      },
      "source": [
        "# Changing and adding Dictionary Elements\r\n",
        "my_dict = {'name': 'Jack', 'age': 26}\r\n",
        "\r\n",
        "# update value\r\n",
        "my_dict['age'] = 27\r\n",
        "\r\n",
        "#Output: {'age': 27, 'name': 'Jack'}\r\n",
        "print(my_dict)\r\n",
        "\r\n",
        "# add item\r\n",
        "my_dict['address'] = 'Downtown'\r\n",
        "\r\n",
        "# Output: {'address': 'Downtown', 'age': 27, 'name': 'Jack'}\r\n",
        "print(my_dict)"
      ],
      "execution_count": null,
      "outputs": []
    },
    {
      "cell_type": "code",
      "metadata": {
        "id": "T0AU-nPX50XY"
      },
      "source": [
        " #Removing elements from a dictionary\r\n",
        "\r\n",
        "# create a dictionary\r\n",
        "squares = {1: 1, 2: 4, 3: 9, 4: 16, 5: 25}\r\n",
        "\r\n",
        "# remove a particular item, returns its value\r\n",
        "# Output: 16\r\n",
        "print(squares.pop(4))\r\n",
        "\r\n",
        "# Output: {1: 1, 2: 4, 3: 9, 5: 25}\r\n",
        "print(squares)\r\n",
        "\r\n",
        "# remove an arbitrary item, return (key,value)\r\n",
        "# Output: (5, 25)\r\n",
        "print(squares.popitem())\r\n",
        "\r\n",
        "# Output: {1: 1, 2: 4, 3: 9}\r\n",
        "print(squares)\r\n",
        "\r\n",
        "# remove all items\r\n",
        "squares.clear()\r\n",
        "\r\n",
        "# Output: {}\r\n",
        "print(squares)\r\n",
        "\r\n",
        "# delete the dictionary itself\r\n",
        "del squares\r\n",
        "\r\n",
        "# Throws Error\r\n",
        "print(squares)"
      ],
      "execution_count": null,
      "outputs": []
    },
    {
      "cell_type": "code",
      "metadata": {
        "id": "4citx55053w3"
      },
      "source": [
        "# Dictionary Methods\r\n",
        "marks = {}.fromkeys(['Math', 'English', 'Science'], 0)\r\n",
        "\r\n",
        "# Output: {'English': 0, 'Math': 0, 'Science': 0}\r\n",
        "print(marks)\r\n",
        "\r\n",
        "for item in marks.items():\r\n",
        "    print(item)\r\n",
        "\r\n",
        "# Output: ['English', 'Math', 'Science']\r\n",
        "print(list(sorted(marks.keys())))"
      ],
      "execution_count": null,
      "outputs": []
    }
  ]
}