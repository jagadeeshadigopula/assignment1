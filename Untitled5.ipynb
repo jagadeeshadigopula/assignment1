{
  "nbformat": 4,
  "nbformat_minor": 0,
  "metadata": {
    "colab": {
      "name": "Untitled5.ipynb",
      "provenance": [],
      "authorship_tag": "ABX9TyO5XKiOg6v2ghancrWnP2i/",
      "include_colab_link": true
    },
    "kernelspec": {
      "name": "python3",
      "display_name": "Python 3"
    }
  },
  "cells": [
    {
      "cell_type": "markdown",
      "metadata": {
        "id": "view-in-github",
        "colab_type": "text"
      },
      "source": [
        "<a href=\"https://colab.research.google.com/github/jagadeeshadigopula/assignment1/blob/main/Untitled5.ipynb\" target=\"_parent\"><img src=\"https://colab.research.google.com/assets/colab-badge.svg\" alt=\"Open In Colab\"/></a>"
      ]
    },
    {
      "cell_type": "code",
      "metadata": {
        "id": "kOn9UwYwYtNh"
      },
      "source": [
        "#question no:- 2\r\n",
        "# Python program to display all the prime numbers within an interval\r\n",
        "\r\n",
        "lower = 1\r\n",
        "upper = 1000\r\n",
        "\r\n",
        "print(\"Prime numbers between\", lower, \"and\", upper, \"are:\")\r\n",
        "\r\n",
        "for num in range(lower, upper + 1):\r\n",
        "   # all prime numbers are greater than 1\r\n",
        "   if num > 1:\r\n",
        "       for i in range(2, num):\r\n",
        "           if (num % i) == 0:\r\n",
        "               break\r\n",
        "       else:\r\n",
        "           print(num)"
      ],
      "execution_count": null,
      "outputs": []
    },
    {
      "cell_type": "code",
      "metadata": {
        "id": "1NM8gwhtacQm"
      },
      "source": [
        "#print the tables from 1to10 using nested for loop\r\n",
        "for i in range(1,10):\r\n",
        "    print(\"i =\", i, \":\")\r\n",
        "    for j in range(1, 10):\r\n",
        "        print (i*j)\r\n",
        "\r\n"
      ],
      "execution_count": null,
      "outputs": []
    },
    {
      "cell_type": "code",
      "metadata": {
        "colab": {
          "base_uri": "https://localhost:8080/",
          "height": 248
        },
        "id": "Tjsj2lkbcIpj",
        "outputId": "43d4c0da-ab37-4da8-e954-2468aa249170"
      },
      "source": [
        "# Python Program to print Prime Numbers for X\r\n",
        " \r\n",
        "x=input()\r\n",
        "while(x <= 100):\r\n",
        "    count = 0\r\n",
        "    i = 2\r\n",
        "    \r\n",
        "    while(i <=x//2):\r\n",
        "        if(x % i == 0):\r\n",
        "            count = count + 1\r\n",
        "            break\r\n",
        "        i = i + 1\r\n",
        "\r\n",
        "    if (count == 0 and x != 1):\r\n",
        "        print(\" %d\" %x, end = '  ')\r\n",
        "    x = x  + 1"
      ],
      "execution_count": 9,
      "outputs": [
        {
          "output_type": "stream",
          "text": [
            "12\n"
          ],
          "name": "stdout"
        },
        {
          "output_type": "error",
          "ename": "TypeError",
          "evalue": "ignored",
          "traceback": [
            "\u001b[0;31m---------------------------------------------------------------------------\u001b[0m",
            "\u001b[0;31mTypeError\u001b[0m                                 Traceback (most recent call last)",
            "\u001b[0;32m<ipython-input-9-ed92ec4f1e36>\u001b[0m in \u001b[0;36m<module>\u001b[0;34m()\u001b[0m\n\u001b[1;32m      2\u001b[0m \u001b[0;34m\u001b[0m\u001b[0m\n\u001b[1;32m      3\u001b[0m \u001b[0mx\u001b[0m\u001b[0;34m=\u001b[0m\u001b[0minput\u001b[0m\u001b[0;34m(\u001b[0m\u001b[0;34m)\u001b[0m\u001b[0;34m\u001b[0m\u001b[0;34m\u001b[0m\u001b[0m\n\u001b[0;32m----> 4\u001b[0;31m \u001b[0;32mwhile\u001b[0m\u001b[0;34m(\u001b[0m\u001b[0mx\u001b[0m \u001b[0;34m<=\u001b[0m \u001b[0;36m100\u001b[0m\u001b[0;34m)\u001b[0m\u001b[0;34m:\u001b[0m\u001b[0;34m\u001b[0m\u001b[0;34m\u001b[0m\u001b[0m\n\u001b[0m\u001b[1;32m      5\u001b[0m     \u001b[0mcount\u001b[0m \u001b[0;34m=\u001b[0m \u001b[0;36m0\u001b[0m\u001b[0;34m\u001b[0m\u001b[0;34m\u001b[0m\u001b[0m\n\u001b[1;32m      6\u001b[0m     \u001b[0mi\u001b[0m \u001b[0;34m=\u001b[0m \u001b[0;36m2\u001b[0m\u001b[0;34m\u001b[0m\u001b[0;34m\u001b[0m\u001b[0m\n",
            "\u001b[0;31mTypeError\u001b[0m: '<=' not supported between instances of 'str' and 'int'"
          ]
        }
      ]
    }
  ]
}